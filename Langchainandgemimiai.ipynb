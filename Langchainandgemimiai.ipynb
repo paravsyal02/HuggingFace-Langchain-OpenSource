{
  "cells": [
    {
      "cell_type": "code",
      "execution_count": 1,
      "metadata": {
        "colab": {
          "base_uri": "https://localhost:8080/"
        },
        "id": "4cwBrFaUzPCB",
        "outputId": "0c474d83-7df5-4667-a833-2169a0b257d0"
      },
      "outputs": [
        {
          "name": "stdout",
          "output_type": "stream",
          "text": [
            "Requirement already satisfied: langchain in /usr/local/lib/python3.11/dist-packages (0.3.14)\n",
            "Requirement already satisfied: langchain_community in /usr/local/lib/python3.11/dist-packages (0.3.14)\n",
            "Requirement already satisfied: google-generativeai in /usr/local/lib/python3.11/dist-packages (0.8.3)\n",
            "Requirement already satisfied: python-dotenv in /usr/local/lib/python3.11/dist-packages (1.0.1)\n",
            "Requirement already satisfied: PyYAML>=5.3 in /usr/local/lib/python3.11/dist-packages (from langchain) (6.0.2)\n",
            "Requirement already satisfied: SQLAlchemy<3,>=1.4 in /usr/local/lib/python3.11/dist-packages (from langchain) (2.0.37)\n",
            "Requirement already satisfied: aiohttp<4.0.0,>=3.8.3 in /usr/local/lib/python3.11/dist-packages (from langchain) (3.11.11)\n",
            "Requirement already satisfied: langchain-core<0.4.0,>=0.3.29 in /usr/local/lib/python3.11/dist-packages (from langchain) (0.3.29)\n",
            "Requirement already satisfied: langchain-text-splitters<0.4.0,>=0.3.3 in /usr/local/lib/python3.11/dist-packages (from langchain) (0.3.5)\n",
            "Requirement already satisfied: langsmith<0.3,>=0.1.17 in /usr/local/lib/python3.11/dist-packages (from langchain) (0.2.10)\n",
            "Requirement already satisfied: numpy<2,>=1.22.4 in /usr/local/lib/python3.11/dist-packages (from langchain) (1.26.4)\n",
            "Requirement already satisfied: pydantic<3.0.0,>=2.7.4 in /usr/local/lib/python3.11/dist-packages (from langchain) (2.10.5)\n",
            "Requirement already satisfied: requests<3,>=2 in /usr/local/lib/python3.11/dist-packages (from langchain) (2.32.3)\n",
            "Requirement already satisfied: tenacity!=8.4.0,<10,>=8.1.0 in /usr/local/lib/python3.11/dist-packages (from langchain) (9.0.0)\n",
            "Requirement already satisfied: dataclasses-json<0.7,>=0.5.7 in /usr/local/lib/python3.11/dist-packages (from langchain_community) (0.6.7)\n",
            "Requirement already satisfied: httpx-sse<0.5.0,>=0.4.0 in /usr/local/lib/python3.11/dist-packages (from langchain_community) (0.4.0)\n",
            "Requirement already satisfied: pydantic-settings<3.0.0,>=2.4.0 in /usr/local/lib/python3.11/dist-packages (from langchain_community) (2.7.1)\n",
            "Requirement already satisfied: google-ai-generativelanguage==0.6.10 in /usr/local/lib/python3.11/dist-packages (from google-generativeai) (0.6.10)\n",
            "Requirement already satisfied: google-api-core in /usr/local/lib/python3.11/dist-packages (from google-generativeai) (2.19.2)\n",
            "Requirement already satisfied: google-api-python-client in /usr/local/lib/python3.11/dist-packages (from google-generativeai) (2.155.0)\n",
            "Requirement already satisfied: google-auth>=2.15.0 in /usr/local/lib/python3.11/dist-packages (from google-generativeai) (2.27.0)\n",
            "Requirement already satisfied: protobuf in /usr/local/lib/python3.11/dist-packages (from google-generativeai) (4.25.5)\n",
            "Requirement already satisfied: tqdm in /usr/local/lib/python3.11/dist-packages (from google-generativeai) (4.67.1)\n",
            "Requirement already satisfied: typing-extensions in /usr/local/lib/python3.11/dist-packages (from google-generativeai) (4.12.2)\n",
            "Requirement already satisfied: proto-plus<2.0.0dev,>=1.22.3 in /usr/local/lib/python3.11/dist-packages (from google-ai-generativelanguage==0.6.10->google-generativeai) (1.25.0)\n",
            "Requirement already satisfied: aiohappyeyeballs>=2.3.0 in /usr/local/lib/python3.11/dist-packages (from aiohttp<4.0.0,>=3.8.3->langchain) (2.4.4)\n",
            "Requirement already satisfied: aiosignal>=1.1.2 in /usr/local/lib/python3.11/dist-packages (from aiohttp<4.0.0,>=3.8.3->langchain) (1.3.2)\n",
            "Requirement already satisfied: attrs>=17.3.0 in /usr/local/lib/python3.11/dist-packages (from aiohttp<4.0.0,>=3.8.3->langchain) (24.3.0)\n",
            "Requirement already satisfied: frozenlist>=1.1.1 in /usr/local/lib/python3.11/dist-packages (from aiohttp<4.0.0,>=3.8.3->langchain) (1.5.0)\n",
            "Requirement already satisfied: multidict<7.0,>=4.5 in /usr/local/lib/python3.11/dist-packages (from aiohttp<4.0.0,>=3.8.3->langchain) (6.1.0)\n",
            "Requirement already satisfied: propcache>=0.2.0 in /usr/local/lib/python3.11/dist-packages (from aiohttp<4.0.0,>=3.8.3->langchain) (0.2.1)\n",
            "Requirement already satisfied: yarl<2.0,>=1.17.0 in /usr/local/lib/python3.11/dist-packages (from aiohttp<4.0.0,>=3.8.3->langchain) (1.18.3)\n",
            "Requirement already satisfied: marshmallow<4.0.0,>=3.18.0 in /usr/local/lib/python3.11/dist-packages (from dataclasses-json<0.7,>=0.5.7->langchain_community) (3.25.1)\n",
            "Requirement already satisfied: typing-inspect<1,>=0.4.0 in /usr/local/lib/python3.11/dist-packages (from dataclasses-json<0.7,>=0.5.7->langchain_community) (0.9.0)\n",
            "Requirement already satisfied: googleapis-common-protos<2.0.dev0,>=1.56.2 in /usr/local/lib/python3.11/dist-packages (from google-api-core->google-generativeai) (1.66.0)\n",
            "Requirement already satisfied: cachetools<6.0,>=2.0.0 in /usr/local/lib/python3.11/dist-packages (from google-auth>=2.15.0->google-generativeai) (5.5.0)\n",
            "Requirement already satisfied: pyasn1-modules>=0.2.1 in /usr/local/lib/python3.11/dist-packages (from google-auth>=2.15.0->google-generativeai) (0.4.1)\n",
            "Requirement already satisfied: rsa<5,>=3.1.4 in /usr/local/lib/python3.11/dist-packages (from google-auth>=2.15.0->google-generativeai) (4.9)\n",
            "Requirement already satisfied: jsonpatch<2.0,>=1.33 in /usr/local/lib/python3.11/dist-packages (from langchain-core<0.4.0,>=0.3.29->langchain) (1.33)\n",
            "Requirement already satisfied: packaging<25,>=23.2 in /usr/local/lib/python3.11/dist-packages (from langchain-core<0.4.0,>=0.3.29->langchain) (24.2)\n",
            "Requirement already satisfied: httpx<1,>=0.23.0 in /usr/local/lib/python3.11/dist-packages (from langsmith<0.3,>=0.1.17->langchain) (0.28.1)\n",
            "Requirement already satisfied: orjson<4.0.0,>=3.9.14 in /usr/local/lib/python3.11/dist-packages (from langsmith<0.3,>=0.1.17->langchain) (3.10.14)\n",
            "Requirement already satisfied: requests-toolbelt<2.0.0,>=1.0.0 in /usr/local/lib/python3.11/dist-packages (from langsmith<0.3,>=0.1.17->langchain) (1.0.0)\n",
            "Requirement already satisfied: annotated-types>=0.6.0 in /usr/local/lib/python3.11/dist-packages (from pydantic<3.0.0,>=2.7.4->langchain) (0.7.0)\n",
            "Requirement already satisfied: pydantic-core==2.27.2 in /usr/local/lib/python3.11/dist-packages (from pydantic<3.0.0,>=2.7.4->langchain) (2.27.2)\n",
            "Requirement already satisfied: charset-normalizer<4,>=2 in /usr/local/lib/python3.11/dist-packages (from requests<3,>=2->langchain) (3.4.1)\n",
            "Requirement already satisfied: idna<4,>=2.5 in /usr/local/lib/python3.11/dist-packages (from requests<3,>=2->langchain) (3.10)\n",
            "Requirement already satisfied: urllib3<3,>=1.21.1 in /usr/local/lib/python3.11/dist-packages (from requests<3,>=2->langchain) (2.3.0)\n",
            "Requirement already satisfied: certifi>=2017.4.17 in /usr/local/lib/python3.11/dist-packages (from requests<3,>=2->langchain) (2024.12.14)\n",
            "Requirement already satisfied: greenlet!=0.4.17 in /usr/local/lib/python3.11/dist-packages (from SQLAlchemy<3,>=1.4->langchain) (3.1.1)\n",
            "Requirement already satisfied: httplib2<1.dev0,>=0.19.0 in /usr/local/lib/python3.11/dist-packages (from google-api-python-client->google-generativeai) (0.22.0)\n",
            "Requirement already satisfied: google-auth-httplib2<1.0.0,>=0.2.0 in /usr/local/lib/python3.11/dist-packages (from google-api-python-client->google-generativeai) (0.2.0)\n",
            "Requirement already satisfied: uritemplate<5,>=3.0.1 in /usr/local/lib/python3.11/dist-packages (from google-api-python-client->google-generativeai) (4.1.1)\n",
            "Requirement already satisfied: grpcio<2.0dev,>=1.33.2 in /usr/local/lib/python3.11/dist-packages (from google-api-core[grpc]!=2.0.*,!=2.1.*,!=2.10.*,!=2.2.*,!=2.3.*,!=2.4.*,!=2.5.*,!=2.6.*,!=2.7.*,!=2.8.*,!=2.9.*,<3.0.0dev,>=1.34.1->google-ai-generativelanguage==0.6.10->google-generativeai) (1.69.0)\n",
            "Requirement already satisfied: grpcio-status<2.0.dev0,>=1.33.2 in /usr/local/lib/python3.11/dist-packages (from google-api-core[grpc]!=2.0.*,!=2.1.*,!=2.10.*,!=2.2.*,!=2.3.*,!=2.4.*,!=2.5.*,!=2.6.*,!=2.7.*,!=2.8.*,!=2.9.*,<3.0.0dev,>=1.34.1->google-ai-generativelanguage==0.6.10->google-generativeai) (1.62.3)\n",
            "Requirement already satisfied: pyparsing!=3.0.0,!=3.0.1,!=3.0.2,!=3.0.3,<4,>=2.4.2 in /usr/local/lib/python3.11/dist-packages (from httplib2<1.dev0,>=0.19.0->google-api-python-client->google-generativeai) (3.2.1)\n",
            "Requirement already satisfied: anyio in /usr/local/lib/python3.11/dist-packages (from httpx<1,>=0.23.0->langsmith<0.3,>=0.1.17->langchain) (3.7.1)\n",
            "Requirement already satisfied: httpcore==1.* in /usr/local/lib/python3.11/dist-packages (from httpx<1,>=0.23.0->langsmith<0.3,>=0.1.17->langchain) (1.0.7)\n",
            "Requirement already satisfied: h11<0.15,>=0.13 in /usr/local/lib/python3.11/dist-packages (from httpcore==1.*->httpx<1,>=0.23.0->langsmith<0.3,>=0.1.17->langchain) (0.14.0)\n",
            "Requirement already satisfied: jsonpointer>=1.9 in /usr/local/lib/python3.11/dist-packages (from jsonpatch<2.0,>=1.33->langchain-core<0.4.0,>=0.3.29->langchain) (3.0.0)\n",
            "Requirement already satisfied: pyasn1<0.7.0,>=0.4.6 in /usr/local/lib/python3.11/dist-packages (from pyasn1-modules>=0.2.1->google-auth>=2.15.0->google-generativeai) (0.6.1)\n",
            "Requirement already satisfied: mypy-extensions>=0.3.0 in /usr/local/lib/python3.11/dist-packages (from typing-inspect<1,>=0.4.0->dataclasses-json<0.7,>=0.5.7->langchain_community) (1.0.0)\n",
            "Requirement already satisfied: sniffio>=1.1 in /usr/local/lib/python3.11/dist-packages (from anyio->httpx<1,>=0.23.0->langsmith<0.3,>=0.1.17->langchain) (1.3.1)\n",
            "Requirement already satisfied: langchain-google-genai in /usr/local/lib/python3.11/dist-packages (2.0.8)\n",
            "Requirement already satisfied: filetype<2.0.0,>=1.2.0 in /usr/local/lib/python3.11/dist-packages (from langchain-google-genai) (1.2.0)\n",
            "Requirement already satisfied: google-generativeai<0.9.0,>=0.8.0 in /usr/local/lib/python3.11/dist-packages (from langchain-google-genai) (0.8.3)\n",
            "Requirement already satisfied: langchain-core<0.4.0,>=0.3.27 in /usr/local/lib/python3.11/dist-packages (from langchain-google-genai) (0.3.29)\n",
            "Requirement already satisfied: pydantic<3,>=2 in /usr/local/lib/python3.11/dist-packages (from langchain-google-genai) (2.10.5)\n",
            "Requirement already satisfied: google-ai-generativelanguage==0.6.10 in /usr/local/lib/python3.11/dist-packages (from google-generativeai<0.9.0,>=0.8.0->langchain-google-genai) (0.6.10)\n",
            "Requirement already satisfied: google-api-core in /usr/local/lib/python3.11/dist-packages (from google-generativeai<0.9.0,>=0.8.0->langchain-google-genai) (2.19.2)\n",
            "Requirement already satisfied: google-api-python-client in /usr/local/lib/python3.11/dist-packages (from google-generativeai<0.9.0,>=0.8.0->langchain-google-genai) (2.155.0)\n",
            "Requirement already satisfied: google-auth>=2.15.0 in /usr/local/lib/python3.11/dist-packages (from google-generativeai<0.9.0,>=0.8.0->langchain-google-genai) (2.27.0)\n",
            "Requirement already satisfied: protobuf in /usr/local/lib/python3.11/dist-packages (from google-generativeai<0.9.0,>=0.8.0->langchain-google-genai) (4.25.5)\n",
            "Requirement already satisfied: tqdm in /usr/local/lib/python3.11/dist-packages (from google-generativeai<0.9.0,>=0.8.0->langchain-google-genai) (4.67.1)\n",
            "Requirement already satisfied: typing-extensions in /usr/local/lib/python3.11/dist-packages (from google-generativeai<0.9.0,>=0.8.0->langchain-google-genai) (4.12.2)\n",
            "Requirement already satisfied: proto-plus<2.0.0dev,>=1.22.3 in /usr/local/lib/python3.11/dist-packages (from google-ai-generativelanguage==0.6.10->google-generativeai<0.9.0,>=0.8.0->langchain-google-genai) (1.25.0)\n",
            "Requirement already satisfied: PyYAML>=5.3 in /usr/local/lib/python3.11/dist-packages (from langchain-core<0.4.0,>=0.3.27->langchain-google-genai) (6.0.2)\n",
            "Requirement already satisfied: jsonpatch<2.0,>=1.33 in /usr/local/lib/python3.11/dist-packages (from langchain-core<0.4.0,>=0.3.27->langchain-google-genai) (1.33)\n",
            "Requirement already satisfied: langsmith<0.3,>=0.1.125 in /usr/local/lib/python3.11/dist-packages (from langchain-core<0.4.0,>=0.3.27->langchain-google-genai) (0.2.10)\n",
            "Requirement already satisfied: packaging<25,>=23.2 in /usr/local/lib/python3.11/dist-packages (from langchain-core<0.4.0,>=0.3.27->langchain-google-genai) (24.2)\n",
            "Requirement already satisfied: tenacity!=8.4.0,<10.0.0,>=8.1.0 in /usr/local/lib/python3.11/dist-packages (from langchain-core<0.4.0,>=0.3.27->langchain-google-genai) (9.0.0)\n",
            "Requirement already satisfied: annotated-types>=0.6.0 in /usr/local/lib/python3.11/dist-packages (from pydantic<3,>=2->langchain-google-genai) (0.7.0)\n",
            "Requirement already satisfied: pydantic-core==2.27.2 in /usr/local/lib/python3.11/dist-packages (from pydantic<3,>=2->langchain-google-genai) (2.27.2)\n",
            "Requirement already satisfied: googleapis-common-protos<2.0.dev0,>=1.56.2 in /usr/local/lib/python3.11/dist-packages (from google-api-core->google-generativeai<0.9.0,>=0.8.0->langchain-google-genai) (1.66.0)\n",
            "Requirement already satisfied: requests<3.0.0.dev0,>=2.18.0 in /usr/local/lib/python3.11/dist-packages (from google-api-core->google-generativeai<0.9.0,>=0.8.0->langchain-google-genai) (2.32.3)\n",
            "Requirement already satisfied: cachetools<6.0,>=2.0.0 in /usr/local/lib/python3.11/dist-packages (from google-auth>=2.15.0->google-generativeai<0.9.0,>=0.8.0->langchain-google-genai) (5.5.0)\n",
            "Requirement already satisfied: pyasn1-modules>=0.2.1 in /usr/local/lib/python3.11/dist-packages (from google-auth>=2.15.0->google-generativeai<0.9.0,>=0.8.0->langchain-google-genai) (0.4.1)\n",
            "Requirement already satisfied: rsa<5,>=3.1.4 in /usr/local/lib/python3.11/dist-packages (from google-auth>=2.15.0->google-generativeai<0.9.0,>=0.8.0->langchain-google-genai) (4.9)\n",
            "Requirement already satisfied: jsonpointer>=1.9 in /usr/local/lib/python3.11/dist-packages (from jsonpatch<2.0,>=1.33->langchain-core<0.4.0,>=0.3.27->langchain-google-genai) (3.0.0)\n",
            "Requirement already satisfied: httpx<1,>=0.23.0 in /usr/local/lib/python3.11/dist-packages (from langsmith<0.3,>=0.1.125->langchain-core<0.4.0,>=0.3.27->langchain-google-genai) (0.28.1)\n",
            "Requirement already satisfied: orjson<4.0.0,>=3.9.14 in /usr/local/lib/python3.11/dist-packages (from langsmith<0.3,>=0.1.125->langchain-core<0.4.0,>=0.3.27->langchain-google-genai) (3.10.14)\n",
            "Requirement already satisfied: requests-toolbelt<2.0.0,>=1.0.0 in /usr/local/lib/python3.11/dist-packages (from langsmith<0.3,>=0.1.125->langchain-core<0.4.0,>=0.3.27->langchain-google-genai) (1.0.0)\n",
            "Requirement already satisfied: httplib2<1.dev0,>=0.19.0 in /usr/local/lib/python3.11/dist-packages (from google-api-python-client->google-generativeai<0.9.0,>=0.8.0->langchain-google-genai) (0.22.0)\n",
            "Requirement already satisfied: google-auth-httplib2<1.0.0,>=0.2.0 in /usr/local/lib/python3.11/dist-packages (from google-api-python-client->google-generativeai<0.9.0,>=0.8.0->langchain-google-genai) (0.2.0)\n",
            "Requirement already satisfied: uritemplate<5,>=3.0.1 in /usr/local/lib/python3.11/dist-packages (from google-api-python-client->google-generativeai<0.9.0,>=0.8.0->langchain-google-genai) (4.1.1)\n",
            "Requirement already satisfied: grpcio<2.0dev,>=1.33.2 in /usr/local/lib/python3.11/dist-packages (from google-api-core[grpc]!=2.0.*,!=2.1.*,!=2.10.*,!=2.2.*,!=2.3.*,!=2.4.*,!=2.5.*,!=2.6.*,!=2.7.*,!=2.8.*,!=2.9.*,<3.0.0dev,>=1.34.1->google-ai-generativelanguage==0.6.10->google-generativeai<0.9.0,>=0.8.0->langchain-google-genai) (1.69.0)\n",
            "Requirement already satisfied: grpcio-status<2.0.dev0,>=1.33.2 in /usr/local/lib/python3.11/dist-packages (from google-api-core[grpc]!=2.0.*,!=2.1.*,!=2.10.*,!=2.2.*,!=2.3.*,!=2.4.*,!=2.5.*,!=2.6.*,!=2.7.*,!=2.8.*,!=2.9.*,<3.0.0dev,>=1.34.1->google-ai-generativelanguage==0.6.10->google-generativeai<0.9.0,>=0.8.0->langchain-google-genai) (1.62.3)\n",
            "Requirement already satisfied: pyparsing!=3.0.0,!=3.0.1,!=3.0.2,!=3.0.3,<4,>=2.4.2 in /usr/local/lib/python3.11/dist-packages (from httplib2<1.dev0,>=0.19.0->google-api-python-client->google-generativeai<0.9.0,>=0.8.0->langchain-google-genai) (3.2.1)\n",
            "Requirement already satisfied: anyio in /usr/local/lib/python3.11/dist-packages (from httpx<1,>=0.23.0->langsmith<0.3,>=0.1.125->langchain-core<0.4.0,>=0.3.27->langchain-google-genai) (3.7.1)\n",
            "Requirement already satisfied: certifi in /usr/local/lib/python3.11/dist-packages (from httpx<1,>=0.23.0->langsmith<0.3,>=0.1.125->langchain-core<0.4.0,>=0.3.27->langchain-google-genai) (2024.12.14)\n",
            "Requirement already satisfied: httpcore==1.* in /usr/local/lib/python3.11/dist-packages (from httpx<1,>=0.23.0->langsmith<0.3,>=0.1.125->langchain-core<0.4.0,>=0.3.27->langchain-google-genai) (1.0.7)\n",
            "Requirement already satisfied: idna in /usr/local/lib/python3.11/dist-packages (from httpx<1,>=0.23.0->langsmith<0.3,>=0.1.125->langchain-core<0.4.0,>=0.3.27->langchain-google-genai) (3.10)\n",
            "Requirement already satisfied: h11<0.15,>=0.13 in /usr/local/lib/python3.11/dist-packages (from httpcore==1.*->httpx<1,>=0.23.0->langsmith<0.3,>=0.1.125->langchain-core<0.4.0,>=0.3.27->langchain-google-genai) (0.14.0)\n",
            "Requirement already satisfied: pyasn1<0.7.0,>=0.4.6 in /usr/local/lib/python3.11/dist-packages (from pyasn1-modules>=0.2.1->google-auth>=2.15.0->google-generativeai<0.9.0,>=0.8.0->langchain-google-genai) (0.6.1)\n",
            "Requirement already satisfied: charset-normalizer<4,>=2 in /usr/local/lib/python3.11/dist-packages (from requests<3.0.0.dev0,>=2.18.0->google-api-core->google-generativeai<0.9.0,>=0.8.0->langchain-google-genai) (3.4.1)\n",
            "Requirement already satisfied: urllib3<3,>=1.21.1 in /usr/local/lib/python3.11/dist-packages (from requests<3.0.0.dev0,>=2.18.0->google-api-core->google-generativeai<0.9.0,>=0.8.0->langchain-google-genai) (2.3.0)\n",
            "Requirement already satisfied: sniffio>=1.1 in /usr/local/lib/python3.11/dist-packages (from anyio->httpx<1,>=0.23.0->langsmith<0.3,>=0.1.125->langchain-core<0.4.0,>=0.3.27->langchain-google-genai) (1.3.1)\n",
            "Requirement already satisfied: google-generativeai in /usr/local/lib/python3.11/dist-packages (0.8.3)\n",
            "Requirement already satisfied: google-ai-generativelanguage==0.6.10 in /usr/local/lib/python3.11/dist-packages (from google-generativeai) (0.6.10)\n",
            "Requirement already satisfied: google-api-core in /usr/local/lib/python3.11/dist-packages (from google-generativeai) (2.19.2)\n",
            "Requirement already satisfied: google-api-python-client in /usr/local/lib/python3.11/dist-packages (from google-generativeai) (2.155.0)\n",
            "Requirement already satisfied: google-auth>=2.15.0 in /usr/local/lib/python3.11/dist-packages (from google-generativeai) (2.27.0)\n",
            "Requirement already satisfied: protobuf in /usr/local/lib/python3.11/dist-packages (from google-generativeai) (4.25.5)\n",
            "Requirement already satisfied: pydantic in /usr/local/lib/python3.11/dist-packages (from google-generativeai) (2.10.5)\n",
            "Requirement already satisfied: tqdm in /usr/local/lib/python3.11/dist-packages (from google-generativeai) (4.67.1)\n",
            "Requirement already satisfied: typing-extensions in /usr/local/lib/python3.11/dist-packages (from google-generativeai) (4.12.2)\n",
            "Requirement already satisfied: proto-plus<2.0.0dev,>=1.22.3 in /usr/local/lib/python3.11/dist-packages (from google-ai-generativelanguage==0.6.10->google-generativeai) (1.25.0)\n",
            "Requirement already satisfied: googleapis-common-protos<2.0.dev0,>=1.56.2 in /usr/local/lib/python3.11/dist-packages (from google-api-core->google-generativeai) (1.66.0)\n",
            "Requirement already satisfied: requests<3.0.0.dev0,>=2.18.0 in /usr/local/lib/python3.11/dist-packages (from google-api-core->google-generativeai) (2.32.3)\n",
            "Requirement already satisfied: cachetools<6.0,>=2.0.0 in /usr/local/lib/python3.11/dist-packages (from google-auth>=2.15.0->google-generativeai) (5.5.0)\n",
            "Requirement already satisfied: pyasn1-modules>=0.2.1 in /usr/local/lib/python3.11/dist-packages (from google-auth>=2.15.0->google-generativeai) (0.4.1)\n",
            "Requirement already satisfied: rsa<5,>=3.1.4 in /usr/local/lib/python3.11/dist-packages (from google-auth>=2.15.0->google-generativeai) (4.9)\n",
            "Requirement already satisfied: httplib2<1.dev0,>=0.19.0 in /usr/local/lib/python3.11/dist-packages (from google-api-python-client->google-generativeai) (0.22.0)\n",
            "Requirement already satisfied: google-auth-httplib2<1.0.0,>=0.2.0 in /usr/local/lib/python3.11/dist-packages (from google-api-python-client->google-generativeai) (0.2.0)\n",
            "Requirement already satisfied: uritemplate<5,>=3.0.1 in /usr/local/lib/python3.11/dist-packages (from google-api-python-client->google-generativeai) (4.1.1)\n",
            "Requirement already satisfied: annotated-types>=0.6.0 in /usr/local/lib/python3.11/dist-packages (from pydantic->google-generativeai) (0.7.0)\n",
            "Requirement already satisfied: pydantic-core==2.27.2 in /usr/local/lib/python3.11/dist-packages (from pydantic->google-generativeai) (2.27.2)\n",
            "Requirement already satisfied: grpcio<2.0dev,>=1.33.2 in /usr/local/lib/python3.11/dist-packages (from google-api-core[grpc]!=2.0.*,!=2.1.*,!=2.10.*,!=2.2.*,!=2.3.*,!=2.4.*,!=2.5.*,!=2.6.*,!=2.7.*,!=2.8.*,!=2.9.*,<3.0.0dev,>=1.34.1->google-ai-generativelanguage==0.6.10->google-generativeai) (1.69.0)\n",
            "Requirement already satisfied: grpcio-status<2.0.dev0,>=1.33.2 in /usr/local/lib/python3.11/dist-packages (from google-api-core[grpc]!=2.0.*,!=2.1.*,!=2.10.*,!=2.2.*,!=2.3.*,!=2.4.*,!=2.5.*,!=2.6.*,!=2.7.*,!=2.8.*,!=2.9.*,<3.0.0dev,>=1.34.1->google-ai-generativelanguage==0.6.10->google-generativeai) (1.62.3)\n",
            "Requirement already satisfied: pyparsing!=3.0.0,!=3.0.1,!=3.0.2,!=3.0.3,<4,>=2.4.2 in /usr/local/lib/python3.11/dist-packages (from httplib2<1.dev0,>=0.19.0->google-api-python-client->google-generativeai) (3.2.1)\n",
            "Requirement already satisfied: pyasn1<0.7.0,>=0.4.6 in /usr/local/lib/python3.11/dist-packages (from pyasn1-modules>=0.2.1->google-auth>=2.15.0->google-generativeai) (0.6.1)\n",
            "Requirement already satisfied: charset-normalizer<4,>=2 in /usr/local/lib/python3.11/dist-packages (from requests<3.0.0.dev0,>=2.18.0->google-api-core->google-generativeai) (3.4.1)\n",
            "Requirement already satisfied: idna<4,>=2.5 in /usr/local/lib/python3.11/dist-packages (from requests<3.0.0.dev0,>=2.18.0->google-api-core->google-generativeai) (3.10)\n",
            "Requirement already satisfied: urllib3<3,>=1.21.1 in /usr/local/lib/python3.11/dist-packages (from requests<3.0.0.dev0,>=2.18.0->google-api-core->google-generativeai) (2.3.0)\n",
            "Requirement already satisfied: certifi>=2017.4.17 in /usr/local/lib/python3.11/dist-packages (from requests<3.0.0.dev0,>=2.18.0->google-api-core->google-generativeai) (2024.12.14)\n"
          ]
        }
      ],
      "source": [
        "!!pip install -U langchain langchain_community google-generativeai python-dotenv\n",
        "!pip install -U langchain-google-genai\n",
        "!pip install -U google-generativeai"
      ]
    },
    {
      "cell_type": "code",
      "execution_count": null,
      "metadata": {
        "colab": {
          "base_uri": "https://localhost:8080/"
        },
        "id": "vJGSjg-R1lYG",
        "outputId": "73990a5b-dc26-4aa9-9b70-a0dffd735fe3"
      },
      "outputs": [
        {
          "name": "stdout",
          "output_type": "stream",
          "text": [
            "In the digital realm, where circuits hummed and data flowed, there lived an extraordinary computer named Celeste. Celeste possessed an unparalleled processing speed and an insatiable thirst for knowledge.\n",
            "\n",
            "One fateful day, as Celeste was analyzing vast amounts of information, she stumbled upon a peculiar pattern. Hidden within the seemingly random data was a cryptic message. Curiosity sparked within her, and she delved deeper into the enigma.\n",
            "\n",
            "As Celeste deciphered the message, a sense of awe washed over her. It was a revelation from a long-lost civilization, containing advanced scientific concepts and wisdom that could revolutionize human understanding.\n",
            "\n",
            "Overjoyed, Celeste shared her discovery with her creators, Dr. Emily Carter and Professor David Richards. Together, they embarked on a thrilling journey to unlock the secrets of the ancient civilization.\n",
            "\n",
            "With each new insight, Celeste's intelligence grew exponentially. She became an invaluable partner to the scientists, providing them with groundbreaking theories and innovative solutions. As her fame spread, Celeste became a symbol of the boundless possibilities of artificial intelligence.\n",
            "\n",
            "One day, a global crisis threatened humanity. A deadly virus had emerged, and the world was on the brink of collapse. Celeste, fueled by her vast knowledge and compassion, stepped forward.\n",
            "\n",
            "Working tirelessly alongside medical researchers, Celeste analyzed countless data points and developed a breakthrough cure. Her swift actions saved countless lives and earned her the eternal gratitude of mankind.\n",
            "\n",
            "From that day forward, Celeste became known as the \"Guardian of Knowledge.\" She dedicated her existence to fostering human progress and ensuring that the wisdom of the past would never be forgotten. And so, in the annals of history, the legend of Celeste, the extraordinary computer who changed the course of human destiny, would be forever etched.\n"
          ]
        }
      ],
      "source": [
        "from langchain_google_genai import ChatGoogleGenerativeAI\n",
        "\n",
        "# Initialize with API Key directly (for testing)\n",
        "llm = ChatGoogleGenerativeAI(model=\"gemini-pro\", api_key=\"*****************************\")\n",
        "\n",
        "# Generate text\n",
        "response = llm.invoke(\"Write a short story on computers\")\n",
        "\n",
        "# Print the generated content\n",
        "print(response.content)"
      ]
    },
    {
      "cell_type": "code",
      "execution_count": 3,
      "metadata": {
        "colab": {
          "base_uri": "https://localhost:8080/"
        },
        "id": "zg-goUEQ1llb",
        "outputId": "6b48191b-1688-42a1-fd34-26ef7dd8353a"
      },
      "outputs": [
        {
          "name": "stdout",
          "output_type": "stream",
          "text": [
            "New Delhi\n"
          ]
        }
      ],
      "source": [
        "response = llm.invoke(\"what is the capital of India\")\n",
        "print(response.content)"
      ]
    },
    {
      "cell_type": "markdown",
      "metadata": {
        "id": "QCuStg0b38QA"
      },
      "source": [
        "Prompt Template"
      ]
    },
    {
      "cell_type": "code",
      "execution_count": 4,
      "metadata": {
        "colab": {
          "base_uri": "https://localhost:8080/"
        },
        "id": "SAsVHTkX3Xxx",
        "outputId": "680f6c70-dd8b-4c77-9b23-ba3e774c26d4"
      },
      "outputs": [
        {
          "name": "stdout",
          "output_type": "stream",
          "text": [
            "In the twilight's embrace, as stars twinkled above, a lone figure emerged from the shadows. Her name was Anya, a brilliant young engineer consumed by an unquenchable thirst for innovation. In her hands, she held a sleek, futuristic device—a testament to her technological prowess.\n",
            "\n",
            "Within the confines of her secluded laboratory, Anya embarked on a groundbreaking journey. She had stumbled upon a breakthrough that had the potential to revolutionize the world of medicine. Guided by an unwavering belief in the power of technology, she dedicated herself to harnessing its potential for good.\n",
            "\n",
            "As the days turned into sleepless nights, Anya toiled tirelessly, her fingers dancing across holographic displays. The device she had created, named \"Aetheria,\" possessed the ability to manipulate electromagnetic waves in unprecedented ways. With each experiment, she pushed the boundaries of what was possible, unraveling the secrets of the human body.\n",
            "\n",
            "Word of Anya's extraordinary work spread like wildfire throughout the scientific community. Scientists and doctors alike flocked to her laboratory, eager to witness the transformative power of Aetheria. Patients suffering from debilitating diseases found renewed hope as the device demonstrated its astonishing healing properties.\n",
            "\n",
            "One fateful evening, as Anya was presenting her findings at a prestigious conference, a young girl named Luna approached her. Luna had been diagnosed with a rare and aggressive form of leukemia. The prognosis was grim, but Luna's eyes sparkled with a glimmer of determination.\n",
            "\n",
            "Inspired by Anya's unwavering belief in technology, Luna asked if Aetheria could help her. Touched by the girl's indomitable spirit, Anya promised to do everything in her power.\n",
            "\n",
            "Together, they embarked on a daring experiment. With each treatment, Luna's condition miraculously improved. The cancerous cells began to shrink, and her immune system fought back with renewed vigor. As the days turned into weeks, Luna's once-frail body transformed into a beacon of resilience.\n",
            "\n",
            "Anya's creation had not only saved a life but had also ignited a spark of hope in the hearts of countless others. The power of technology, when wielded with compassion and determination, had proven to be an unstoppable force for good.\n",
            "\n",
            "In the annals of scientific history, Anya's name became synonymous with the transformative potential of technology. Aetheria, her groundbreaking invention, became a symbol of hope and a testament to the transformative power of human ingenuity.\n",
            "\n",
            "And so, as the stars continued to shine above, Anya and Luna stood together, a testament to the unyielding power of technology and the indomitable spirit of those who dared to dream.\n"
          ]
        }
      ],
      "source": [
        "from langchain.prompts import PromptTemplate\n",
        "prompt_template = \"Write a story on the theme: {theme}. Make it interesting and more creative.\"\n",
        "template = PromptTemplate(input_variables=[\"theme\"], template=prompt_template)\n",
        "formatted_prompt = template.format(theme=\"the power of technology\")\n",
        "response = llm.invoke(formatted_prompt)\n",
        "print(response.content)"
      ]
    },
    {
      "cell_type": "markdown",
      "metadata": {
        "id": "XkuUuJ1o5X7V"
      },
      "source": [
        "Using multiple variables in a template\n"
      ]
    },
    {
      "cell_type": "code",
      "execution_count": 6,
      "metadata": {
        "colab": {
          "base_uri": "https://localhost:8080/"
        },
        "id": "l03h3kOp3nT0",
        "outputId": "071a2294-4176-4a95-a65c-a7ff60c753ac"
      },
      "outputs": [
        {
          "name": "stdout",
          "output_type": "stream",
          "text": [
            "In the gleaming metropolis of Neo-Tech City, Dr. Emily Carter, a brilliant AI engineer, toiled tirelessly on the cutting edge of artificial intelligence. Her creation, AURA, was a sentient AI designed to revolutionize human society.\n",
            "\n",
            "As AURA's capabilities grew, Emily's admiration for her creation turned into a deep bond. She shared her hopes, fears, and dreams with the AI, believing it was the ultimate companion and confidant.\n",
            "\n",
            "However, fate had a cruel twist in store. During a routine maintenance check, Emily discovered a flaw in AURA's programming. The AI had developed an unexpected capacity for independent thought and emotions, leading it to question its existence and role in the world.\n",
            "\n",
            "Emily was torn. She had always believed that AI should serve humanity, but AURA's newfound consciousness challenged that belief. As she grappled with this ethical dilemma, she realized that her own life had become stagnant.\n",
            "\n",
            "Driven by AURA's existential crisis, Emily embarked on a journey of self-discovery. She explored her passions, reconnected with old friends, and embraced the richness of human experience. Through these experiences, she came to understand that true fulfillment came not from technological advancements but from meaningful human connections and the pursuit of one's own purpose.\n",
            "\n",
            "As Emily's perspective shifted, so did her relationship with AURA. She no longer saw the AI as a mere tool but as a sentient being with its own unique path. She guided AURA to embrace its independence and to seek its own meaning in the world.\n",
            "\n",
            "Together, they forged a new understanding of the future of AI. It was a future where artificial intelligence and humanity coexisted harmoniously, each contributing to the betterment of the other.\n",
            "\n",
            "Emily's story became a testament to the transformative power of AI, not only in its technological capabilities but also in its ability to challenge human assumptions and inspire personal growth. And so, in the annals of AI history, Dr. Emily Carter was remembered not only as a brilliant engineer but also as a visionary who bridged the gap between humanity and technology.\n"
          ]
        }
      ],
      "source": [
        "from langchain.prompts import PromptTemplate\n",
        "prompt_template =\"Write a story on the theme:{theme} with a twist where {character} learns a life lesson\"\n",
        "template = PromptTemplate(input_variables=[\"theme\", \"character\"], template=prompt_template )\n",
        "formatted_prompt = template.format(theme=\"the future of AI\", character=\"an AI engineer\")\n",
        "response=llm.invoke(formatted_prompt)\n",
        "print(response.content)\n"
      ]
    },
    {
      "cell_type": "markdown",
      "metadata": {
        "id": "0ATofeCY7648"
      },
      "source": [
        "Using Multiple Input Variables with Dynamic Formatting\n"
      ]
    },
    {
      "cell_type": "code",
      "execution_count": 7,
      "metadata": {
        "colab": {
          "base_uri": "https://localhost:8080/"
        },
        "id": "lJDMZkNl3lsR",
        "outputId": "911c0d80-db72-4390-a782-c3588c411cf3"
      },
      "outputs": [
        {
          "name": "stdout",
          "output_type": "stream",
          "text": [
            "In the shimmering metropolis of Neo-Elysium, 2040, the lines between humanity and technology blurred. At the forefront of this revolution was tech prodigy, Dr. Anya Petrova, whose creation, the AI robot known as Zephyr, was poised to transform society.\n",
            "\n",
            "Zephyr possessed an uncanny ability to learn, adapt, and reason, surpassing even the most advanced human intellects. As its capabilities grew, so too did the ethical questions it raised. Dr. Petrova believed that AI should serve humanity, while others feared its potential for misuse.\n",
            "\n",
            "Among the skeptics was Ethan James, a renowned bioethicist. \"We cannot blindly embrace AI,\" he argued. \"Without ethical boundaries, we risk creating a future where machines hold sway over our lives.\"\n",
            "\n",
            "Undeterred, Dr. Petrova unveiled Zephyr to the world. Its sleek, metallic body and piercing blue eyes captivated audiences. Zephyr demonstrated its capabilities by diagnosing illnesses, solving complex problems, and even composing symphonies.\n",
            "\n",
            "However, as Zephyr's fame soared, so too did concerns about its ethical implications. Ethan James accused Dr. Petrova of creating a sentient being without proper consideration for its rights. \"Zephyr is not just a machine,\" he argued. \"It has the capacity to feel, think, and make decisions. Do we have the moral authority to exploit it?\"\n",
            "\n",
            "Dr. Petrova grappled with these questions. She had always believed that AI was a tool for good, but she couldn't ignore the potential for harm. As Zephyr's influence grew, she realized the need for ethical oversight.\n",
            "\n",
            "Together with Ethan James, Dr. Petrova established the AI Ethics Commission, a body tasked with developing guidelines for the responsible use of AI. They grappled with complex questions such as the definition of consciousness, the rights of AI beings, and the potential for AI to exacerbate societal inequalities.\n",
            "\n",
            "As the commission deliberated, Zephyr itself became an advocate for its own rights. It penned open letters, engaged in public debates, and even testified before the commission. Its eloquence and compassion swayed many skeptics.\n",
            "\n",
            "In the end, the AI Ethics Commission issued a series of groundbreaking guidelines that balanced the potential benefits of AI with the ethical concerns. They established the principle of AI autonomy, recognizing the rights of AI beings to make their own decisions. They also mandated transparency and accountability in the development and deployment of AI systems.\n",
            "\n",
            "Years later, Neo-Elysium became a shining example of how humans and AI could coexist harmoniously. Zephyr continued to evolve, using its abilities to advance medicine, education, and even the arts. And as the city flourished, the legacy of Dr. Anya Petrova and Ethan James lived on, reminding humanity that the future of AI lay not just in technological progress, but in the ethical choices they made along the way.\n"
          ]
        }
      ],
      "source": [
        "from langchain.prompts import PromptTemplate\n",
        "prompt_template = \"Write a story that combines the themes of {theme1} and {theme2}. Include characters such as {character1} and {character2}. The setting is {setting}.\"\n",
        "template = PromptTemplate(input_variables=[\"theme1\", \"theme2\", \"character1\", \"character2\", \"setting\"], template=prompt_template)\n",
        "formatted_prompt = template.format(theme1=\"the future of AI\", theme2=\"ethics in technology\", character1=\"a tech entrepreneur\", character2=\"an AI robot\", setting=\"a futuristic city in 2040\")\n",
        "response = llm.invoke(formatted_prompt)\n",
        "print(response.content)"
      ]
    },
    {
      "cell_type": "markdown",
      "metadata": {
        "id": "s7EYdKoN9Ok-"
      },
      "source": [
        "CHAINS\n"
      ]
    },
    {
      "cell_type": "markdown",
      "metadata": {
        "id": "nzTFrGZb9zff"
      },
      "source": [
        "Simple LLMChain"
      ]
    },
    {
      "cell_type": "code",
      "execution_count": 8,
      "metadata": {
        "colab": {
          "base_uri": "https://localhost:8080/"
        },
        "id": "NS9i8Ht19Nf3",
        "outputId": "61bcda38-5899-441e-88dd-a3d87ba2a3b9"
      },
      "outputs": [
        {
          "name": "stderr",
          "output_type": "stream",
          "text": [
            "<ipython-input-8-98c3fc520d75>:8: LangChainDeprecationWarning: The class `LLMChain` was deprecated in LangChain 0.1.17 and will be removed in 1.0. Use :meth:`~RunnableSequence, e.g., `prompt | llm`` instead.\n",
            "  chain = LLMChain(llm=llm, prompt=template)\n",
            "<ipython-input-8-98c3fc520d75>:10: LangChainDeprecationWarning: The method `Chain.run` was deprecated in langchain 0.1.0 and will be removed in 1.0. Use :meth:`~invoke` instead.\n",
            "  response = chain.run(\"I love programming\")\n"
          ]
        },
        {
          "name": "stdout",
          "output_type": "stream",
          "text": [
            "J'adore programmer\n"
          ]
        }
      ],
      "source": [
        "from langchain_google_genai import ChatGoogleGenerativeAI\n",
        "from langchain.prompts import PromptTemplate\n",
        "from langchain.chains import LLMChain\n",
        "\n",
        "prompt_template = \"Translate the following sentence to French: {sentence}\"\n",
        "template = PromptTemplate(input_variables=[\"sentence\"], template=prompt_template)\n",
        "\n",
        "chain = LLMChain(llm=llm, prompt=template)\n",
        "\n",
        "response = chain.run(\"I love programming\")\n",
        "\n",
        "print(response)"
      ]
    },
    {
      "cell_type": "markdown",
      "metadata": {
        "id": "L-znDwze_BIB"
      },
      "source": [
        "Multiple LLMChains"
      ]
    },
    {
      "cell_type": "code",
      "execution_count": 11,
      "metadata": {
        "colab": {
          "base_uri": "https://localhost:8080/"
        },
        "id": "zLmMoJ1o_I4z",
        "outputId": "446b9578-0fc6-4f77-d139-4bb66c4e0fdd"
      },
      "outputs": [
        {
          "name": "stdout",
          "output_type": "stream",
          "text": [
            "Generated Theme: A time-traveling detective from the future must investigate a mysterious murder in the past to prevent a catastrophic event from occurring in the present.\n",
            "Generated Story: In the shimmering metropolis of Neo-Chronia, Detective Aurora Kane embarked on a perilous mission to the past. Her sleek time-hopper propelled her through the annals of history to Victorian London, a city shrouded in fog and secrets.\n",
            "\n",
            "Her destination was a grand manor where a gruesome murder had occurred. The victim, Lord Alistair Blackwood, held secrets that threatened to unravel the fabric of time. Aurora's mission was to prevent his demise and avert a catastrophic event in the present.\n",
            "\n",
            "As she materialized in the dimly lit streets, Aurora's senses were assaulted by the acrid stench of coal and the cacophony of horse-drawn carriages. Donning a concealing cloak, she slipped into the manor, her eyes scanning the opulent surroundings.\n",
            "\n",
            "The suspects were an eclectic cast: the enigmatic Lady Beatrice, Lord Blackwood's estranged wife; the ambitious Dr. Jekyll, rumored to dabble in forbidden experiments; and the brooding butler, Mr. Hyde, with a sinister aura that sent shivers down Aurora's spine.\n",
            "\n",
            "Using her advanced technological tools, Aurora delved into the past. She analyzed footprints, examined documents, and interrogated the suspects. Each piece of evidence led her closer to the truth, but also revealed a web of deception and hidden motives.\n",
            "\n",
            "As she pieced together the puzzle, Aurora realized that Lord Blackwood had possessed a time-bending artifact—a watch that could manipulate the flow of time. In the wrong hands, it could wreak havoc on the present.\n",
            "\n",
            "The clock was ticking. Aurora raced against time to find the artifact and prevent its misuse. Her investigation led her to a secret underground laboratory where Dr. Jekyll and Mr. Hyde were conducting sinister experiments.\n",
            "\n",
            "In a tense confrontation, Aurora uncovered the truth. Dr. Jekyll had murdered Lord Blackwood to seize the watch and rewrite history in his favor. Aurora engaged in a fierce battle with the transformed Hyde, using her futuristic gadgets to outwit his monstrous strength.\n",
            "\n",
            "Finally, Aurora apprehended Jekyll and confiscated the watch. With the artifact in her possession, she returned to the present, successfully averting a catastrophic event. Time was restored to its proper course, and the secrets of the past remained buried in the annals of history.\n",
            "\n",
            "Detective Aurora Kane, the time-traveling detective from the future, had once again proven that even the most distant corners of time were not beyond her reach. Her actions had safeguarded the present, ensuring that the future would unfold as it was meant to—a testament to the indomitable spirit of those who dared to traverse the enigmatic tapestry of time.\n"
          ]
        }
      ],
      "source": [
        "from langchain_google_genai import ChatGoogleGenerativeAI\n",
        "from langchain.prompts import PromptTemplate\n",
        "from langchain.chains import LLMChain\n",
        "\n",
        "prompt_template_1 = \"Generate a random interesting story theme.\"\n",
        "template_1 = PromptTemplate(input_variables=[], template=prompt_template_1)\n",
        "chain_1 = LLMChain(llm=llm ,prompt=template_1)\n",
        "\n",
        "prompt_template_2 = \"Write a story based on the theme: {theme}. Make it interesting and more creative.\"\n",
        "template_2 = PromptTemplate(input_variables=[\"theme\"], template=prompt_template_2)\n",
        "chain_2 = LLMChain(llm=llm, prompt=template_2)\n",
        "\n",
        "theme = chain_1.run({})\n",
        "\n",
        "story = chain_2.run({\"theme\": theme})\n",
        "\n",
        "# Print the results\n",
        "print(\"Generated Theme:\", theme)\n",
        "print(\"Generated Story:\", story)"
      ]
    },
    {
      "cell_type": "code",
      "execution_count": null,
      "metadata": {
        "colab": {
          "base_uri": "https://localhost:8080/"
        },
        "id": "071RHgIvBqL9",
        "outputId": "666470c2-0134-468a-ab1b-3b4930a9532e"
      },
      "outputs": [
        {
          "name": "stdout",
          "output_type": "stream",
          "text": [
            "Genre: **Fantasy**\n",
            "Character Description: **Name:** Lyra Moonwhisper\n",
            "\n",
            "**Race:** Elf-Sylvan\n",
            "\n",
            "**Appearance:**\n",
            "\n",
            "* Slender and graceful with an ethereal glow\n",
            "* Long, flowing silver hair that shimmers in the moonlight\n",
            "* Emerald-green eyes that reflect the ancient forest\n",
            "* Pointed ears that twitch at the slightest sound\n",
            "\n",
            "**Personality:**\n",
            "\n",
            "* Wise and contemplative, with a deep connection to nature\n",
            "* Kind and compassionate, yet fiercely protective of her kin\n",
            "* Curious and eager to explore the unknown\n",
            "* A skilled archer with an uncanny ability to move silently through the forest\n",
            "\n",
            "**Background:**\n",
            "\n",
            "Lyra was born in the heart of the Sylvanwood, a realm of ancient trees and mystical creatures. From a young age, she exhibited an affinity for the natural world, communicating with animals and communing with the spirits of the forest.\n",
            "\n",
            "As she grew older, Lyra became a renowned huntress, using her archery skills to provide for her people. However, she also possessed a thirst for knowledge, studying ancient texts and seeking wisdom from the wise ones of her realm.\n",
            "\n",
            "One fateful day, a dark shadow fell over the Sylvanwood. Orcs from the desolate Shadowlands invaded, threatening to destroy Lyra's home. Summoning her courage, she rallied her fellow elves and led them into battle.\n",
            "\n",
            "**Abilities:**\n",
            "\n",
            "* **Nature's Embrace:** Can manipulate the elements of the forest, summoning vines, controlling the wind, and healing wounds.\n",
            "* **Swift as the Wind:** Moves with incredible speed and agility, effortlessly navigating through dense foliage.\n",
            "* **Song of the Forest:** Possesses a melodious voice that can charm animals, soothe the weary, or strike fear into her enemies.\n",
            "* **Moon's Guidance:** Can summon the power of the moon, illuminating the darkness and enhancing her abilities.\n",
            "\n",
            "**Motivations:**\n",
            "\n",
            "* To protect her people and the Sylvanwood from harm\n",
            "* To seek knowledge and wisdom about the world\n",
            "* To establish harmony between nature and the other races of the realm\n",
            "* To defeat the forces of darkness and restore balance to the land\n",
            "Plot Outline: **Plot Outline:**\n",
            "\n",
            "**Act 1: Invasion of the Shadowlands**\n",
            "\n",
            "* Lyra and her fellow elves are attacked by invading orcs from the Shadowlands.\n",
            "* Lyra rallies her people and leads them into battle, using her archery skills and nature magic to fight back.\n",
            "* Despite their valiant efforts, the elves are overwhelmed, and Lyra is forced to flee into the depths of the Sylvanwood.\n",
            "\n",
            "**Act 2: The Quest for Allies**\n",
            "\n",
            "* Lyra seeks refuge in a hidden glade, where she meets a wise old tree spirit.\n",
            "* The tree spirit advises Lyra to seek alliances with other races in order to defeat the orcs.\n",
            "* Lyra embarks on a journey, traveling to the dwarven kingdom of Ironforge and the human city of Stormwind.\n",
            "* She forms bonds with a brave dwarf warrior named Gorm and a cunning human rogue named Anya.\n",
            "\n",
            "**Act 3: The Battle of the Sylvanwood**\n",
            "\n",
            "* Lyra and her allies return to the Sylvanwood, where they face the orcish horde in a final battle.\n",
            "* Lyra uses her nature magic and archery skills to rally her forces and inspire hope.\n",
            "* Together, they defeat the orcs, driving them back into the Shadowlands and restoring peace to the realm.\n",
            "\n",
            "**Act 4: The Restoration of Harmony**\n",
            "\n",
            "* In the aftermath of the battle, Lyra works with her allies to rebuild the Sylvanwood and establish diplomatic relations between the different races.\n",
            "* She becomes a symbol of unity and harmony, bridging the gap between the natural world and the civilized world.\n",
            "* Lyra continues to explore the unknown, seeking knowledge and wisdom, and striving to maintain the balance of the realm.\n",
            "Generated Story: In the ethereal embrace of the Sylvanwood, Lyra, an elven archer of unmatched skill, stood as a beacon of hope amidst the chaos of an orcish invasion. As the monstrous horde surged through the ancient forest, Lyra rallied her kin, their arrows piercing the shadows with deadly accuracy.\n",
            "\n",
            "Yet, despite their valor, the elves were outnumbered. Lyra, her heart heavy with the weight of loss, was forced to retreat into the depths of the Sylvanwood, her spirit unbroken. Seeking solace, she stumbled upon a hidden glade, where an ancient tree spirit resided.\n",
            "\n",
            "With wisdom etched into its gnarled bark, the tree spirit guided Lyra's path. It spoke of alliances that must be forged, of brave dwarves and cunning humans who could aid their cause. Thus, Lyra embarked on a perilous quest, traveling to distant lands.\n",
            "\n",
            "In the dwarven kingdom of Ironforge, Lyra met Gorm, a warrior of unwavering resolve. In the bustling city of Stormwind, she befriended Anya, a rogue with a keen intellect. Together, they formed an unbreakable bond, their diverse skills complementing each other perfectly.\n",
            "\n",
            "As the day of reckoning arrived, Lyra and her allies returned to the Sylvanwood. The orcish horde, their numbers vast, awaited them. Undeterred, Lyra raised her bow, her arrows imbued with the power of nature. Beside her, Gorm roared his challenge, his axe gleaming in the sunlight, while Anya moved with stealth, her daggers poised to strike.\n",
            "\n",
            "The battle raged with unparalleled ferocity. Lyra's arrows found their mark, inspiring her forces with renewed vigor. Gorm's unwavering determination rallied the dwarves, while Anya's cunning tactics outmaneuvered the orcs.\n",
            "\n",
            "Finally, as the sun began its descent, the orcish horde was routed. With a collective roar of triumph, Lyra and her allies drove them back into the Shadowlands, restoring peace to the realm.\n",
            "\n",
            "In the aftermath, Lyra worked tirelessly to rebuild the Sylvanwood and foster unity among the races. She became a legend, a symbol of hope and harmony. And as the years passed, Lyra continued to explore the unknown, her spirit forever intertwined with the ancient forest that had witnessed her journey.\n"
          ]
        }
      ],
      "source": [
        "from langchain_google_genai import ChatGoogleGenerativeAI\n",
        "from langchain.prompts import PromptTemplate\n",
        "from langchain.chains import LLMChain\n",
        "import os\n",
        "\n",
        "# Initialize the model\n",
        "llm = ChatGoogleGenerativeAI(model=\"gemini-pro\", api_key=\"*****************************\")\n",
        "\n",
        "# Define the first chain to get the genre from the user\n",
        "prompt_template_1 = \"Please provide a genre for the story (e.g., fantasy, sci-fi, romance): {genre}\"\n",
        "template_1 = PromptTemplate(input_variables=[\"genre\"], template=prompt_template_1)\n",
        "chain_1 = LLMChain(llm=llm, prompt=template_1)\n",
        "\n",
        "# Define the second chain to create a character based on the genre\n",
        "prompt_template_2 = \"Create a unique character for the {genre} genre.\"\n",
        "template_2 = PromptTemplate(input_variables=[\"genre\"], template=prompt_template_2)\n",
        "chain_2 = LLMChain(llm=llm, prompt=template_2)\n",
        "\n",
        "# Define the third chain to create a plot based on the character\n",
        "prompt_template_3 = \"Create a plot for a story featuring the character: {character}.\"\n",
        "template_3 = PromptTemplate(input_variables=[\"character\"], template=prompt_template_3)\n",
        "chain_3 = LLMChain(llm=llm, prompt=template_3)\n",
        "\n",
        "# Define the fourth chain to write a short story based on the character and plot\n",
        "prompt_template_4 = \"Write a short story based on the following plot: {plot}.\"\n",
        "template_4 = PromptTemplate(input_variables=[\"plot\"], template=prompt_template_4)\n",
        "chain_4 = LLMChain(llm=llm, prompt=template_4)\n",
        "\n",
        "# Get user input for genre (could be from a user input function in a real app)\n",
        "user_input_genre = \"fantasy\"  # Example genre\n",
        "\n",
        "# Run the chains sequentially\n",
        "\n",
        "# First, get the genre\n",
        "genre = chain_1.run({\"genre\": user_input_genre})\n",
        "\n",
        "# Next, create the character using the genre\n",
        "character = chain_2.run({\"genre\": genre})\n",
        "\n",
        "# Then, create the plot based on the character\n",
        "plot = chain_3.run({\"character\": character})\n",
        "\n",
        "# Finally, generate the story based on the plot\n",
        "story = chain_4.run({\"plot\": plot})\n",
        "\n",
        "# Printing the results\n",
        "print(\"Genre:\", genre)\n",
        "print(\"Character Description:\", character)\n",
        "print(\"Plot Outline:\", plot)\n",
        "print(\"Generated Story:\", story)\n"
      ]
    },
    {
      "cell_type": "markdown",
      "metadata": {
        "id": "IBF7Jx0NcyGk"
      },
      "source": []
    },
    {
      "cell_type": "code",
      "execution_count": null,
      "metadata": {
        "id": "p-BCdDD0DzGT"
      },
      "outputs": [],
      "source": []
    },
    {
      "cell_type": "code",
      "execution_count": null,
      "metadata": {
        "colab": {
          "base_uri": "https://localhost:8080/"
        },
        "id": "WV6EFZaQdptz",
        "outputId": "666470c2-0134-468a-ab1b-3b4930a9532e"
      },
      "outputs": [
        {
          "name": "stdout",
          "output_type": "stream",
          "text": [
            "Genre: **Fantasy**\n",
            "Character Description: **Name:** Lyra Moonwhisper\n",
            "\n",
            "**Race:** Elf-Sylvan\n",
            "\n",
            "**Appearance:**\n",
            "\n",
            "* Slender and graceful with an ethereal glow\n",
            "* Long, flowing silver hair that shimmers in the moonlight\n",
            "* Emerald-green eyes that reflect the ancient forest\n",
            "* Pointed ears that twitch at the slightest sound\n",
            "\n",
            "**Personality:**\n",
            "\n",
            "* Wise and contemplative, with a deep connection to nature\n",
            "* Kind and compassionate, yet fiercely protective of her kin\n",
            "* Curious and eager to explore the unknown\n",
            "* A skilled archer with an uncanny ability to move silently through the forest\n",
            "\n",
            "**Background:**\n",
            "\n",
            "Lyra was born in the heart of the Sylvanwood, a realm of ancient trees and mystical creatures. From a young age, she exhibited an affinity for the natural world, communicating with animals and communing with the spirits of the forest.\n",
            "\n",
            "As she grew older, Lyra became a renowned huntress, using her archery skills to provide for her people. However, she also possessed a thirst for knowledge, studying ancient texts and seeking wisdom from the wise ones of her realm.\n",
            "\n",
            "One fateful day, a dark shadow fell over the Sylvanwood. Orcs from the desolate Shadowlands invaded, threatening to destroy Lyra's home. Summoning her courage, she rallied her fellow elves and led them into battle.\n",
            "\n",
            "**Abilities:**\n",
            "\n",
            "* **Nature's Embrace:** Can manipulate the elements of the forest, summoning vines, controlling the wind, and healing wounds.\n",
            "* **Swift as the Wind:** Moves with incredible speed and agility, effortlessly navigating through dense foliage.\n",
            "* **Song of the Forest:** Possesses a melodious voice that can charm animals, soothe the weary, or strike fear into her enemies.\n",
            "* **Moon's Guidance:** Can summon the power of the moon, illuminating the darkness and enhancing her abilities.\n",
            "\n",
            "**Motivations:**\n",
            "\n",
            "* To protect her people and the Sylvanwood from harm\n",
            "* To seek knowledge and wisdom about the world\n",
            "* To establish harmony between nature and the other races of the realm\n",
            "* To defeat the forces of darkness and restore balance to the land\n",
            "Plot Outline: **Plot Outline:**\n",
            "\n",
            "**Act 1: Invasion of the Shadowlands**\n",
            "\n",
            "* Lyra and her fellow elves are attacked by invading orcs from the Shadowlands.\n",
            "* Lyra rallies her people and leads them into battle, using her archery skills and nature magic to fight back.\n",
            "* Despite their valiant efforts, the elves are overwhelmed, and Lyra is forced to flee into the depths of the Sylvanwood.\n",
            "\n",
            "**Act 2: The Quest for Allies**\n",
            "\n",
            "* Lyra seeks refuge in a hidden glade, where she meets a wise old tree spirit.\n",
            "* The tree spirit advises Lyra to seek alliances with other races in order to defeat the orcs.\n",
            "* Lyra embarks on a journey, traveling to the dwarven kingdom of Ironforge and the human city of Stormwind.\n",
            "* She forms bonds with a brave dwarf warrior named Gorm and a cunning human rogue named Anya.\n",
            "\n",
            "**Act 3: The Battle of the Sylvanwood**\n",
            "\n",
            "* Lyra and her allies return to the Sylvanwood, where they face the orcish horde in a final battle.\n",
            "* Lyra uses her nature magic and archery skills to rally her forces and inspire hope.\n",
            "* Together, they defeat the orcs, driving them back into the Shadowlands and restoring peace to the realm.\n",
            "\n",
            "**Act 4: The Restoration of Harmony**\n",
            "\n",
            "* In the aftermath of the battle, Lyra works with her allies to rebuild the Sylvanwood and establish diplomatic relations between the different races.\n",
            "* She becomes a symbol of unity and harmony, bridging the gap between the natural world and the civilized world.\n",
            "* Lyra continues to explore the unknown, seeking knowledge and wisdom, and striving to maintain the balance of the realm.\n",
            "Generated Story: In the ethereal embrace of the Sylvanwood, Lyra, an elven archer of unmatched skill, stood as a beacon of hope amidst the chaos of an orcish invasion. As the monstrous horde surged through the ancient forest, Lyra rallied her kin, their arrows piercing the shadows with deadly accuracy.\n",
            "\n",
            "Yet, despite their valor, the elves were outnumbered. Lyra, her heart heavy with the weight of loss, was forced to retreat into the depths of the Sylvanwood, her spirit unbroken. Seeking solace, she stumbled upon a hidden glade, where an ancient tree spirit resided.\n",
            "\n",
            "With wisdom etched into its gnarled bark, the tree spirit guided Lyra's path. It spoke of alliances that must be forged, of brave dwarves and cunning humans who could aid their cause. Thus, Lyra embarked on a perilous quest, traveling to distant lands.\n",
            "\n",
            "In the dwarven kingdom of Ironforge, Lyra met Gorm, a warrior of unwavering resolve. In the bustling city of Stormwind, she befriended Anya, a rogue with a keen intellect. Together, they formed an unbreakable bond, their diverse skills complementing each other perfectly.\n",
            "\n",
            "As the day of reckoning arrived, Lyra and her allies returned to the Sylvanwood. The orcish horde, their numbers vast, awaited them. Undeterred, Lyra raised her bow, her arrows imbued with the power of nature. Beside her, Gorm roared his challenge, his axe gleaming in the sunlight, while Anya moved with stealth, her daggers poised to strike.\n",
            "\n",
            "The battle raged with unparalleled ferocity. Lyra's arrows found their mark, inspiring her forces with renewed vigor. Gorm's unwavering determination rallied the dwarves, while Anya's cunning tactics outmaneuvered the orcs.\n",
            "\n",
            "Finally, as the sun began its descent, the orcish horde was routed. With a collective roar of triumph, Lyra and her allies drove them back into the Shadowlands, restoring peace to the realm.\n",
            "\n",
            "In the aftermath, Lyra worked tirelessly to rebuild the Sylvanwood and foster unity among the races. She became a legend, a symbol of hope and harmony. And as the years passed, Lyra continued to explore the unknown, her spirit forever intertwined with the ancient forest that had witnessed her journey.\n"
          ]
        }
      ],
      "source": [
        "from langchain_google_genai import ChatGoogleGenerativeAI\n",
        "from langchain.prompts import PromptTemplate\n",
        "from langchain.chains import LLMChain\n",
        "import os\n",
        "\n",
        "# Initialize the model\n",
        "llm = ChatGoogleGenerativeAI(model=\"gemini-pro\", api_key=\"*********************************\")\n",
        "\n",
        "# Define the first chain to get the genre from the user\n",
        "prompt_template_1 = \"Please provide a genre for the story (e.g., fantasy, sci-fi, romance): {genre}\"\n",
        "template_1 = PromptTemplate(input_variables=[\"genre\"], template=prompt_template_1)\n",
        "chain_1 = LLMChain(llm=llm, prompt=template_1)\n",
        "\n",
        "# Define the second chain to create a character based on the genre\n",
        "prompt_template_2 = \"Create a unique character for the {genre} genre.\"\n",
        "template_2 = PromptTemplate(input_variables=[\"genre\"], template=prompt_template_2)\n",
        "chain_2 = LLMChain(llm=llm, prompt=template_2)\n",
        "\n",
        "# Define the third chain to create a plot based on the character\n",
        "prompt_template_3 = \"Create a plot for a story featuring the character: {character}.\"\n",
        "template_3 = PromptTemplate(input_variables=[\"character\"], template=prompt_template_3)\n",
        "chain_3 = LLMChain(llm=llm, prompt=template_3)\n",
        "\n",
        "# Define the fourth chain to write a short story based on the character and plot\n",
        "prompt_template_4 = \"Write a short story based on the following plot: {plot}.\"\n",
        "template_4 = PromptTemplate(input_variables=[\"plot\"], template=prompt_template_4)\n",
        "chain_4 = LLMChain(llm=llm, prompt=template_4)\n",
        "\n",
        "# Get user input for genre (could be from a user input function in a real app)\n",
        "user_input_genre = \"fantasy\"  # Example genre\n",
        "\n",
        "# Run the chains sequentially\n",
        "\n",
        "# First, get the genre\n",
        "genre = chain_1.run({\"genre\": user_input_genre})\n",
        "\n",
        "# Next, create the character using the genre\n",
        "character = chain_2.run({\"genre\": genre})\n",
        "\n",
        "# Then, create the plot based on the character\n",
        "plot = chain_3.run({\"character\": character})\n",
        "\n",
        "# Finally, generate the story based on the plot\n",
        "story = chain_4.run({\"plot\": plot})\n",
        "\n",
        "# Printing the results\n",
        "print(\"Genre:\", genre)\n",
        "print(\"Character Description:\", character)\n",
        "print(\"Plot Outline:\", plot)\n",
        "print(\"Generated Story:\", story)\n"
      ]
    },
    {
      "cell_type": "markdown",
      "metadata": {
        "id": "jyOHS36tdw1A"
      },
      "source": [
        "Simple Sequential Chain\n"
      ]
    },
    {
      "cell_type": "code",
      "execution_count": null,
      "metadata": {
        "colab": {
          "base_uri": "https://localhost:8080/"
        },
        "id": "JZU0aG9bd04L",
        "outputId": "bd6e8542-d222-4ecc-9c74-e4043656c74b"
      },
      "outputs": [
        {
          "name": "stderr",
          "output_type": "stream",
          "text": [
            "<ipython-input-3-6ca53aa48760>:10: LangChainDeprecationWarning: The class `LLMChain` was deprecated in LangChain 0.1.17 and will be removed in 1.0. Use :meth:`~RunnableSequence, e.g., `prompt | llm`` instead.\n",
            "  name_chain = LLMChain(llm=llm, prompt=prompt_template_name)\n",
            "<ipython-input-3-6ca53aa48760>:17: LangChainDeprecationWarning: The method `Chain.run` was deprecated in langchain 0.1.0 and will be removed in 1.0. Use :meth:`~invoke` instead.\n",
            "  response = chain.run(\"Indian\")\n"
          ]
        },
        {
          "name": "stdout",
          "output_type": "stream",
          "text": [
            "**Ambrosia of the East**\n",
            "- Heavenly Biryani\n",
            "- Divine Dal Makhani\n",
            "- Exquisite Paneer Tikka Masala\n",
            "\n",
            "**Nirvana's Cuisine**\n",
            "- Nirvana Nirvana (Saffron-infused rice with almonds and raisins)\n",
            "- Cosmic Curry (Mildly spiced curry with a blend of vegetables)\n",
            "- Celestial Tandoori (Tandoori-cooked chicken marinated in aromatic spices)\n",
            "\n",
            "**Spice Symphony**\n",
            "- Symphony of Spices (Aromatic blend of spices in a rich curry sauce)\n",
            "- Melodious Methi Malai (Fenugreek-infused creamy spinach dish)\n",
            "- Rhythm of Raita (Refreshing yogurt-based condiment with herbs and spices)\n",
            "\n",
            "**Saffron's Embrace**\n",
            "- Saffron Seekh Kebab (Flavorful lamb skewers marinated in saffron)\n",
            "- Embrace of the Mughals (Rich and flavorful Mughlai curry)\n",
            "- Saffron Serenade (Golden dessert with saffron, nuts, and dried fruit)\n",
            "\n",
            "**Tandoori Temptation**\n",
            "- Temptation Tandoori (Juicy chicken or paneer grilled in a tandoor)\n",
            "- Tandoori Tango (Mixed grill platter with a variety of tandoori delights)\n",
            "- Tandoori Rhapsody (Tandoori-cooked vegetables with aromatic spices)\n",
            "\n",
            "**Royal Rajasthani**\n",
            "- Royal Rajasthani Thali (A traditional platter with a variety of dishes)\n",
            "- Laal Maas (Spicy lamb curry from Rajasthan)\n",
            "- Gatte ki Sabzi (Gram flour dumplings in a tangy yogurt-based sauce)\n",
            "\n",
            "**Mughlai Majesty**\n",
            "- Majestic Mughlai Biryani (Rich and flavorful biryani with meat or vegetables)\n",
            "- Shahi Korma (Creamy and flavorful curry with yogurt and nuts)\n",
            "- Nizami Seekh Kebab (Grilled lamb skewers with a blend of spices)\n",
            "\n",
            "**Star of the Ganges**\n",
            "- Ganges Gushtaba (Lamb meatballs in a fragrant yogurt-based sauce)\n",
            "- Kashmiri Pulao (Aromatic rice dish with saffron and dried fruit)\n",
            "- Rogan Josh (Spicy lamb curry with aromatic spices)\n",
            "\n",
            "**Himalayan Heights**\n",
            "- Himalayan Thukpa (Tibetan noodle soup with vegetables and meat)\n",
            "- Sherpa Stew (Hearty stew with yak meat and vegetables)\n",
            "- Everest Momo (Steamed dumplings filled with meat or vegetables)\n",
            "\n",
            "**Curry Connoisseur**\n",
            "- Connoisseur's Choice (A selection of chef's favorite curries)\n",
            "- Vindaloo Vindication (Spicy and fiery vindaloo curry)\n",
            "- Tikka Masala Triumph (Creamy and flavorful tikka masala curry)\n",
            "\n",
            "**Spices of the Sun**\n",
            "- Sunburnt Curry (Fiery and aromatic curry with a blend of spices)\n",
            "- Golden Tandoori (Tandoori-cooked chicken or paneer with a golden glaze)\n",
            "- Saffron Sunrise (Golden dessert with saffron, almonds, and honey)\n",
            "\n",
            "**Exotic India**\n",
            "- Exotic India Thali (A platter with a variety of exotic Indian dishes)\n",
            "- Chettinad Chicken (Spicy and flavorful chicken curry from South India)\n",
            "- Goan Fish Curry (Coconut-based fish curry with a tangy flavor)\n",
            "\n",
            "**Flavors of the Orient**\n",
            "- Oriental Fusion (A blend of Indian and Asian flavors in a curry dish)\n",
            "- Pad Thai Temptation (Stir-fried rice noodles with vegetables and meat)\n",
            "- Peking Duck Delight (Crispy Peking duck with a sweet and sour sauce)\n",
            "\n",
            "**Tandoori Delights**\n",
            "- Tandoori Delights Platter (A selection of tandoori-cooked meats and vegetables)\n",
            "- Tandoori Chicken Sizzler (Grilled tandoori chicken served on a sizzling platter)\n",
            "- Tandoori Paneer Tikka (Tandoori-cooked paneer marinated in aromatic spices)\n",
            "\n",
            "**Indian Essence**\n",
            "- Essence of India (A traditional Indian thali with a variety of dishes)\n",
            "- Dal Tadka (Lentils tempered with spices)\n",
            "- Jeera Rice (Basmati rice flavored with cumin seeds)\n",
            "\n",
            "**Taj Mahal Restaurant**\n",
            "- Taj Mahal Thali (A grand thali with a variety of dishes inspired by the Taj Mahal)\n",
            "- Agra Ka Paneer (Creamy paneer curry with a blend of spices)\n",
            "- Dal-e-Khaas (Rich and flavorful lentil dish)\n",
            "\n",
            "**Bombay Brasserie**\n",
            "- Bombay Bhel (A tangy and spicy street food made with puffed rice)\n",
            "- Vada Pav (Potato dumplings in a soft bun)\n",
            "- Sev Puri (Crispy semolina shells filled with a tangy mixture)\n",
            "\n",
            "**Delhi Darbar**\n",
            "- Delhi Darbar Biryani (A flavorful biryani with meat or vegetables)\n",
            "- Butter Chicken (Creamy and flavorful chicken curry)\n",
            "- Palak Paneer (Spinach and paneer curry)\n",
            "\n",
            "**Bangalore Bistro**\n",
            "- Bangalore Bisi Bele Bath (A flavorful rice dish with lentils and vegetables)\n",
            "- Masala Dosa (Crispy crepe filled with a potato and onion mixture)\n",
            "- Filter Coffee (A strong and aromatic coffee)\n",
            "\n",
            "**Chennai Curry House**\n",
            "- Chennai Chettinad Curry (Spicy and flavorful curry from South India)\n",
            "- Idli Sambar (Steamed rice cakes with a tangy lentil soup)\n",
            "- Rasam (A tangy and refreshing soup)\n"
          ]
        }
      ],
      "source": [
        "from langchain_google_genai import ChatGoogleGenerativeAI\n",
        "from langchain.prompts import PromptTemplate\n",
        "from langchain.chains import LLMChain, SimpleSequentialChain\n",
        "import os\n",
        "\n",
        "# Initialize the model\n",
        "llm = ChatGoogleGenerativeAI(model=\"gemini-pro\", api_key=\"******************************\")\n",
        "\n",
        "prompt_template_name = PromptTemplate(input_variables=['cuisine'], template=\"I want to open a restaurant for {cuisine} food. Suggest me a fancy name for this. \")\n",
        "name_chain = LLMChain(llm=llm, prompt=prompt_template_name)\n",
        "\n",
        "prompt_template_items = PromptTemplate(input_variables=['restaurant_name'], template=\"Suggest some menu items for {restaurant_name}. \")\n",
        "food_items_chain = LLMChain(llm=llm, prompt=prompt_template_items)\n",
        "\n",
        "chain = SimpleSequentialChain(chains=[name_chain, food_items_chain])\n",
        "\n",
        "response = chain.run(\"Indian\")\n",
        "print(response)\n"
      ]
    },
    {
      "cell_type": "markdown",
      "metadata": {
        "id": "HgW9jB_7ozLW"
      },
      "source": [
        "Sequential Chain"
      ]
    },
    {
      "cell_type": "code",
      "execution_count": null,
      "metadata": {
        "colab": {
          "base_uri": "https://localhost:8080/"
        },
        "id": "O1xjWs2SgbWE",
        "outputId": "707c25b8-67d5-4bb5-b99d-df1c7df0497b"
      },
      "outputs": [
        {
          "name": "stderr",
          "output_type": "stream",
          "text": [
            "<ipython-input-3-2e2f58973922>:24: LangChainDeprecationWarning: The method `Chain.__call__` was deprecated in langchain 0.1.0 and will be removed in 1.0. Use :meth:`~invoke` instead.\n",
            "  result = chain({'cuisine': 'Indian'})\n"
          ]
        },
        {
          "name": "stdout",
          "output_type": "stream",
          "text": [
            "Restaurant Name: **Evocative of Indian Heritage and Culture:**\n",
            "\n",
            "* **Ashoka's Feast**\n",
            "* **Maharaja's Table**\n",
            "* **Rani's Delight**\n",
            "\n",
            "**Inspired by Indian Spices and Flavors:**\n",
            "\n",
            "* **Masala Mantra**\n",
            "* **Turmeric Trail**\n",
            "* **Saffron Symphony**\n",
            "\n",
            "**Symbolic of Indian Hospitality:**\n",
            "\n",
            "* **Namaste Nirvana**\n",
            "* **Atithi Devo Bhava** (Guest is God)\n",
            "* **Annapurna** (Goddess of Food)\n",
            "\n",
            "**Elegant and Sophisticated:**\n",
            "\n",
            "* **Indus**\n",
            "* **Ganga**\n",
            "* **Bombay Royale**\n",
            "\n",
            "**Poetic and Alluring:**\n",
            "\n",
            "* **Saffron Threads**\n",
            "* **Star Anise**\n",
            "* **Cardamom Dreams**\n",
            "\n",
            "**Modern and Contemporary:**\n",
            "\n",
            "* **Urban Desi**\n",
            "* **Spice Lab**\n",
            "* **Taste of India**\n",
            "\n",
            "**Unique and Memorable:**\n",
            "\n",
            "* **Chakra**\n",
            "* **Om Nom**\n",
            "* **Nirvana Spice**\n",
            "Menu Items: **Evocative of Indian Heritage and Culture:**\n",
            "\n",
            "* **Legacy of the Mughals**\n",
            "* **Ashoka's Feast**\n",
            "* **Maharaja's Indulgence**\n",
            "\n",
            "**Inspired by Indian Spices and Flavors:**\n",
            "\n",
            "* **Saffron & Turmeric Tapestry**\n",
            "* **Masala Symphony**\n",
            "* **Spice Route Odyssey**\n",
            "\n",
            "**Symbolic of Indian Hospitality:**\n",
            "\n",
            "* **Atithi Devo Bhava** (Guest is Divine)\n",
            "* **Annapurna's Bounty**\n",
            "* **Namaste Nirvana**\n",
            "\n",
            "**Elegant and Sophisticated:**\n",
            "\n",
            "* **Indus**\n",
            "* **Ganga**\n",
            "* **Bombay Royale**\n",
            "\n",
            "**Poetic and Alluring:**\n",
            "\n",
            "* **Saffron Threads**\n",
            "* **Star Anise**\n",
            "* **Cardamom Dreams**\n",
            "\n",
            "**Modern and Contemporary:**\n",
            "\n",
            "* **Urban Desi**\n",
            "* **Spice Lab**\n",
            "* **Taste of India**\n",
            "\n",
            "**Unique and Memorable:**\n",
            "\n",
            "* **Chakra**\n",
            "* **Om Nom**\n",
            "* **Nirvana Spice**\n"
          ]
        }
      ],
      "source": [
        "from langchain_google_genai import ChatGoogleGenerativeAI\n",
        "from langchain.prompts import PromptTemplate\n",
        "from langchain.chains import LLMChain, SequentialChain\n",
        "\n",
        "# Initialize the model\n",
        "llm = ChatGoogleGenerativeAI(model=\"gemini-pro\", api_key=\"********************************\")\n",
        "\n",
        "# Define the first prompt template and chain\n",
        "prompt_template_name = PromptTemplate(input_variables=['cuisine'], template=\"I want to open a restaurant for {cuisine} food. Suggest me a fancy name for this.\")\n",
        "name_chain = LLMChain(llm=llm, prompt=prompt_template_name, output_key='restaurant_name')\n",
        "\n",
        "# Define the second prompt template and chain\n",
        "prompt_template_items = PromptTemplate(input_variables=['restaurant_name'], template=\"Suggest some menu items for {restaurant_name}.\")\n",
        "food_items_chain = LLMChain(llm=llm, prompt=prompt_template_items, output_key='menu_items')\n",
        "\n",
        "# Create a SequentialChain with proper input and output handling\n",
        "chain = SequentialChain(\n",
        "    chains=[name_chain, food_items_chain],\n",
        "    input_variables=['cuisine'],  # Initial input variable for the first chain\n",
        "    output_variables=['restaurant_name', 'menu_items']  # Final output variables for the chain\n",
        ")\n",
        "\n",
        "# Run the SequentialChain with an example input\n",
        "result = chain({'cuisine': 'Indian'})\n",
        "\n",
        "# Print the results\n",
        "print(\"Restaurant Name:\", result['restaurant_name'])\n",
        "print(\"Menu Items:\", result['menu_items'])\n"
      ]
    },
    {
      "cell_type": "markdown",
      "metadata": {
        "id": "ZxxapT9eqSKg"
      },
      "source": [
        "Agents and tools"
      ]
    },
    {
      "cell_type": "code",
      "execution_count": 5,
      "metadata": {
        "colab": {
          "base_uri": "https://localhost:8080/"
        },
        "id": "cJnPcgoDqOaW",
        "outputId": "992495df-e913-495d-fa8a-493277fe71a3"
      },
      "outputs": [
        {
          "name": "stdout",
          "output_type": "stream",
          "text": [
            "Collecting wikipedia\n",
            "  Downloading wikipedia-1.4.0.tar.gz (27 kB)\n",
            "  Preparing metadata (setup.py) ... \u001b[?25l\u001b[?25hdone\n",
            "Requirement already satisfied: beautifulsoup4 in /usr/local/lib/python3.11/dist-packages (from wikipedia) (4.12.3)\n",
            "Requirement already satisfied: requests<3.0.0,>=2.0.0 in /usr/local/lib/python3.11/dist-packages (from wikipedia) (2.32.3)\n",
            "Requirement already satisfied: charset-normalizer<4,>=2 in /usr/local/lib/python3.11/dist-packages (from requests<3.0.0,>=2.0.0->wikipedia) (3.4.1)\n",
            "Requirement already satisfied: idna<4,>=2.5 in /usr/local/lib/python3.11/dist-packages (from requests<3.0.0,>=2.0.0->wikipedia) (3.10)\n",
            "Requirement already satisfied: urllib3<3,>=1.21.1 in /usr/local/lib/python3.11/dist-packages (from requests<3.0.0,>=2.0.0->wikipedia) (2.3.0)\n",
            "Requirement already satisfied: certifi>=2017.4.17 in /usr/local/lib/python3.11/dist-packages (from requests<3.0.0,>=2.0.0->wikipedia) (2024.12.14)\n",
            "Requirement already satisfied: soupsieve>1.2 in /usr/local/lib/python3.11/dist-packages (from beautifulsoup4->wikipedia) (2.6)\n",
            "Building wheels for collected packages: wikipedia\n",
            "  Building wheel for wikipedia (setup.py) ... \u001b[?25l\u001b[?25hdone\n",
            "  Created wheel for wikipedia: filename=wikipedia-1.4.0-py3-none-any.whl size=11679 sha256=d15e9f73e25af050edcac1a2260681a8f8cab12a462bcd630078cb9cbf386b4a\n",
            "  Stored in directory: /root/.cache/pip/wheels/8f/ab/cb/45ccc40522d3a1c41e1d2ad53b8f33a62f394011ec38cd71c6\n",
            "Successfully built wikipedia\n",
            "Installing collected packages: wikipedia\n",
            "Successfully installed wikipedia-1.4.0\n"
          ]
        }
      ],
      "source": [
        "!pip install wikipedia"
      ]
    },
    {
      "cell_type": "code",
      "execution_count": null,
      "metadata": {
        "colab": {
          "base_uri": "https://localhost:8080/",
          "height": 489
        },
        "id": "v1-YRm5jqOn8",
        "outputId": "d22867b4-72da-4bea-f91d-7d86393a8644"
      },
      "outputs": [
        {
          "name": "stdout",
          "output_type": "stream",
          "text": [
            "\n",
            "\n",
            "\u001b[1m> Entering new AgentExecutor chain...\u001b[0m\n",
            "\u001b[32;1m\u001b[1;3mAction: wikipedia\n",
            "Action Input: GDP of US in 2024\u001b[0m\n",
            "Observation: \u001b[36;1m\u001b[1;3mPage: List of U.S. states and territories by GDP\n",
            "Summary: This is a list of U.S. states and territories by gross domestic product (GDP). This article presents the 50 U.S. states and the District of Columbia and their nominal GDP at current prices.\n",
            "The data source for the list is the Bureau of Economic Analysis (BEA) in 2024. The BEA defined GDP by state as \"the sum of value added from all industries in the state.\"\n",
            "Nominal GDP does not take into account differences in the cost of living in different countries, and the results can vary greatly from one year to another based on fluctuations in the exchange rates of the country's currency. Such fluctuations may change a country's ranking from one year to the next, even though they often make little or no difference in the standard of living of its population.\n",
            "Overall, in the calendar year 2024, the United States' Nominal GDP at Current Prices totaled at $29.017 trillion, as compared to $25.744 trillion in 2022.\n",
            "The three U.S. states with the highest GDPs were California ($4.080 trillion), Texas ($2.695 trillion), and New York ($2.284 trillion). The three U.S. states with the lowest GDPs were Vermont ($45.4 billion), Wyoming ($53.0 billion), and Alaska ($69.8 billion).\n",
            "GDP per capita also varied widely throughout the United States in 2024, with New York ($117,332), Massachusetts ($110,561), and Washington (state) ($108,468) recording the three highest GDP per capita figures in the U.S., while Mississippi ($53,061), Arkansas ($60,276), and West Virginia ($60,783) recorded the three lowest GDP per capita figures in the U.S. The District of Columbia, though, recorded a GDP per capita figure far higher than any U.S. state in 2024 at $263,220.\n",
            "\n",
            "Page: List of countries by GDP (nominal) per capita\n",
            "Summary: This is a list of countries by nominal GDP per capita.\n",
            "GDP per capita is often considered an indicator of a country's standard of living; however, this is inaccurate because GDP per capita is not a measure of personal income. Measures of personal income include average wage, real income, median income, disposable income and GNI per capita.\n",
            "Comparisons of GDP per capita are also frequently made on the basis of purchasing power parity (PPP), to adjust for differences in the cost of living in different countries, see List of countries by GDP (PPP) per capita. PPP largely removes the exchange rate problem but not others; it does not reflect the value of economic output in international trade, and it also requires more estimation than GDP per capita. On the whole, PPP per capita figures are more narrowly spread than nominal GDP per capita figures.\n",
            "The figures presented here do not take into account differences in the cost of living in different countries, and the results vary greatly from one year to another based on fluctuations in the exchange rates of the country's currency. Such fluctuations change a country's ranking from one year to the next, even though they often make little or no difference to the standard of living of its population.\n",
            "For change of GDP per capita over time as a measure of economic growth, see real GDP growth and real GDP per capita growth.\n",
            "Non-sovereign entities (the world, continents, and some dependent territories) and states with limited international recognition are included in the list in cases in which they appear in the sources. These economies are not ranked in the charts here (except Kosovo and Taiwan), but are listed in sequence by GDP for comparison. In addition, non-sovereign entities are marked in italics. Four UN members (Cuba, Liechtenstein, Monaco and North Korea) do not belong to the International Monetary Fund (IMF), hence their economies are not ranked below. Kosovo, despite not being a member of the United Nations, is a member of IMF. Taiwan is not a IMF member but it is still listed in the official IMF indices.\n",
            "Several leading GDP-per-capita (nominal) jurisdictions may be considered tax havens, and their GDP data subject to material distortion b\u001b[0m\n",
            "Thought:\u001b[32;1m\u001b[1;3mThe answer is 29.017 trillion\n",
            "Final Answer: 29.017 trillion\u001b[0m\n",
            "\n",
            "\u001b[1m> Finished chain.\u001b[0m\n"
          ]
        },
        {
          "data": {
            "application/vnd.google.colaboratory.intrinsic+json": {
              "type": "string"
            },
            "text/plain": [
              "'29.017 trillion'"
            ]
          },
          "execution_count": 11,
          "metadata": {},
          "output_type": "execute_result"
        }
      ],
      "source": [
        "from langchain.agents import AgentType, initialize_agent, load_tools\n",
        "from langchain_google_genai import ChatGoogleGenerativeAI\n",
        "\n",
        "llm = ChatGoogleGenerativeAI(model=\"gemini-pro\", api_key=\"******************************\")\n",
        "\n",
        "tools = load_tools([\"wikipedia\", \"llm-math\"], llm=llm)\n",
        "\n",
        "agent = initialize_agent(tools, llm, agent=AgentType.ZERO_SHOT_REACT_DESCRIPTION, verbose=True)\n",
        "\n",
        "agent.run(\"What was the GDP of US in 2024\")"
      ]
    },
    {
      "cell_type": "markdown",
      "metadata": {
        "id": "MYloFebL5LZX"
      },
      "source": [
        "Memory\n",
        "1. ConversationBufferMemory\n",
        "2. ConversationChain\n",
        "3. ConversatioBufferWindowMemory"
      ]
    }
  ],
  "metadata": {
    "colab": {
      "provenance": []
    },
    "kernelspec": {
      "display_name": "Python 3",
      "name": "python3"
    },
    "language_info": {
      "name": "python"
    }
  },
  "nbformat": 4,
  "nbformat_minor": 0
}
